{
 "cells": [
  {
   "cell_type": "code",
   "execution_count": 1,
   "metadata": {},
   "outputs": [
    {
     "name": "stdout",
     "output_type": "stream",
     "text": [
      "Hello, World!\n"
     ]
    }
   ],
   "source": [
    "print(\"Hello, World!\")"
   ]
  },
  {
   "cell_type": "code",
   "execution_count": 2,
   "metadata": {},
   "outputs": [],
   "source": [
    "import pandas as pd\n",
    "from sklearn.feature_extraction.text import TfidfVectorizer\n",
    "from sklearn.metrics.pairwise import cosine_similarity"
   ]
  },
  {
   "cell_type": "code",
   "execution_count": 3,
   "metadata": {},
   "outputs": [],
   "source": [
    "# import data\n",
    "data_path = \"chat_data.txt\""
   ]
  },
  {
   "cell_type": "code",
   "execution_count": 6,
   "metadata": {},
   "outputs": [],
   "source": [
    "question = []      # To store questions\n",
    "answer = []         # To store answers"
   ]
  },
  {
   "cell_type": "code",
   "execution_count": 7,
   "metadata": {},
   "outputs": [],
   "source": [
    "with open(data_path, 'r', encoding=\"utf-8\") as file:\n",
    "    for line in file:\n",
    "        if '\\t' in line:            # makeing sure the formate is good\n",
    "            q, a = line.strip().split(\"\\t\")\n",
    "            question.append(q.lower())          # Storing in lower case\n",
    "            answer.append(a)\n",
    "            "
   ]
  },
  {
   "cell_type": "code",
   "execution_count": 8,
   "metadata": {},
   "outputs": [],
   "source": [
    "# now converting into it dataframe\n",
    "df = pd.DataFrame({\n",
    "    \"Question\":question,\n",
    "    \"Answer\":answer\n",
    "})"
   ]
  },
  {
   "cell_type": "code",
   "execution_count": 9,
   "metadata": {},
   "outputs": [],
   "source": [
    "# vectorizing the question\n",
    "vectorize = TfidfVectorizer()\n",
    "question_vector = vectorize.fit_transform(df['Question'])\n"
   ]
  },
  {
   "cell_type": "code",
   "execution_count": 10,
   "metadata": {},
   "outputs": [],
   "source": [
    "# def a function which takes user input and a chat bot answers\n",
    "def chatbot_response(user_input):\n",
    "    user_input = input().lower()\n",
    "    user_vector = vectorize.fit_transform([user_input])         # converting user input into vector\n",
    "    \n",
    "    # suing cosine similarity to match question and user input\n",
    "    similarities = cosine_similarity(user_vector, question_vector)\n",
    "    \n",
    "    # getting the best match\n",
    "    best_match = similarities.argmax()\n",
    "    \n",
    "    # now, give answer\n",
    "    return df.iloc[best_match]['Answer']\n",
    "    "
   ]
  },
  {
   "cell_type": "code",
   "execution_count": 15,
   "metadata": {},
   "outputs": [
    {
     "name": "stdout",
     "output_type": "stream",
     "text": [
      "Type 'exit' for exit\n",
      "ChatBot: GoodBye\n"
     ]
    }
   ],
   "source": [
    "# ttest the chatBot\n",
    "print(\"Type 'exit' for exit\")\n",
    "while True:\n",
    "    userInput = input(\"You: \")\n",
    "    if userInput == \"exit\":\n",
    "        print(\"ChatBot: GoodBye\")\n",
    "        break\n",
    "    response = chatbot_response(userInput)\n",
    "    # print(\"ChatBot: \", response)\n",
    "    print(f\"ChatBot: {response}\")"
   ]
  }
 ],
 "metadata": {
  "kernelspec": {
   "display_name": "venv",
   "language": "python",
   "name": "python3"
  },
  "language_info": {
   "codemirror_mode": {
    "name": "ipython",
    "version": 3
   },
   "file_extension": ".py",
   "mimetype": "text/x-python",
   "name": "python",
   "nbconvert_exporter": "python",
   "pygments_lexer": "ipython3",
   "version": "3.13.1"
  }
 },
 "nbformat": 4,
 "nbformat_minor": 2
}
